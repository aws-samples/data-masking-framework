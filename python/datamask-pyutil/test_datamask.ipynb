{
 "cells": [
  {
   "cell_type": "code",
   "execution_count": 1,
   "metadata": {},
   "outputs": [],
   "source": [
    "%load_ext sparksql_magic"
   ]
  },
  {
   "cell_type": "code",
   "execution_count": 2,
   "metadata": {},
   "outputs": [
    {
     "name": "stderr",
     "output_type": "stream",
     "text": [
      "22/03/17 19:45:50 WARN ObjectStore: Version information not found in metastore. hive.metastore.schema.verification is not enabled so recording the schema version 1.2.0\n",
      "22/03/17 19:45:50 WARN ObjectStore: Failed to get database default, returning NoSuchObjectException\n"
     ]
    },
    {
     "data": {
      "text/html": [
       "<table><tr style=\"border-bottom: 1px solid\"><td style=\"font-weight: bold\">databaseName</td></tr><tr><td>default</td></tr></table>"
      ],
      "text/plain": [
       "<IPython.core.display.HTML object>"
      ]
     },
     "execution_count": 2,
     "metadata": {},
     "output_type": "execute_result"
    }
   ],
   "source": [
    "%%sparksql\n",
    "show databases"
   ]
  },
  {
   "cell_type": "markdown",
   "metadata": {},
   "source": [
    "# Input"
   ]
  },
  {
   "cell_type": "code",
   "execution_count": 3,
   "metadata": {},
   "outputs": [],
   "source": [
    "df_rent_input = spark.read.csv('./data/input/rent', header=True)"
   ]
  },
  {
   "cell_type": "code",
   "execution_count": 4,
   "metadata": {},
   "outputs": [
    {
     "data": {
      "text/plain": [
       "24000"
      ]
     },
     "execution_count": 4,
     "metadata": {},
     "output_type": "execute_result"
    }
   ],
   "source": [
    "df_rent_input.count()"
   ]
  },
  {
   "cell_type": "code",
   "execution_count": 5,
   "metadata": {},
   "outputs": [],
   "source": [
    "df_rent_input.createOrReplaceTempView('rent_input')"
   ]
  },
  {
   "cell_type": "code",
   "execution_count": 6,
   "metadata": {},
   "outputs": [
    {
     "name": "stderr",
     "output_type": "stream",
     "text": [
      "22/03/17 19:46:05 WARN ObjectStore: Failed to get database global_temp, returning NoSuchObjectException\n",
      "                                                                                \r"
     ]
    },
    {
     "data": {
      "text/html": [
       "<table><tr style=\"border-bottom: 1px solid\"><td style=\"font-weight: bold\">offset</td></tr><tr><td>1</td></tr><tr><td>3</td></tr><tr><td>5</td></tr><tr><td>4</td></tr><tr><td>2</td></tr></table>"
      ],
      "text/plain": [
       "<IPython.core.display.HTML object>"
      ]
     },
     "execution_count": 6,
     "metadata": {},
     "output_type": "execute_result"
    }
   ],
   "source": [
    "%%sparksql\n",
    "select distinct offset from rent_input"
   ]
  },
  {
   "cell_type": "markdown",
   "metadata": {},
   "source": [
    "# Output"
   ]
  },
  {
   "cell_type": "code",
   "execution_count": 7,
   "metadata": {},
   "outputs": [],
   "source": [
    "df_rent_output = spark.read.parquet('./data/output/rent')"
   ]
  },
  {
   "cell_type": "code",
   "execution_count": 8,
   "metadata": {},
   "outputs": [
    {
     "data": {
      "text/plain": [
       "24000"
      ]
     },
     "execution_count": 8,
     "metadata": {},
     "output_type": "execute_result"
    }
   ],
   "source": [
    "df_rent_output.count()"
   ]
  },
  {
   "cell_type": "code",
   "execution_count": 9,
   "metadata": {},
   "outputs": [],
   "source": [
    "df_rent_output.count()\n",
    "df_rent_output.createOrReplaceTempView('rent_output')"
   ]
  },
  {
   "cell_type": "code",
   "execution_count": 10,
   "metadata": {},
   "outputs": [
    {
     "data": {
      "text/html": [
       "<table><tr style=\"border-bottom: 1px solid\"><td style=\"font-weight: bold\">offset</td></tr><tr><td>1</td></tr><tr><td>3</td></tr><tr><td>5</td></tr><tr><td>4</td></tr><tr><td>2</td></tr></table>"
      ],
      "text/plain": [
       "<IPython.core.display.HTML object>"
      ]
     },
     "execution_count": 10,
     "metadata": {},
     "output_type": "execute_result"
    }
   ],
   "source": [
    "%%sparksql\n",
    "select distinct offset from rent_output"
   ]
  },
  {
   "cell_type": "markdown",
   "metadata": {},
   "source": [
    "# Reverse User_id Domain"
   ]
  },
  {
   "cell_type": "code",
   "execution_count": 13,
   "metadata": {},
   "outputs": [],
   "source": [
    "df_reverse_user_id = spark.read.parquet('./data/reverse/user_id_sha512sha256')"
   ]
  },
  {
   "cell_type": "code",
   "execution_count": 14,
   "metadata": {},
   "outputs": [
    {
     "data": {
      "text/plain": [
       "1000"
      ]
     },
     "execution_count": 14,
     "metadata": {},
     "output_type": "execute_result"
    }
   ],
   "source": [
    "df_reverse_user_id.count()"
   ]
  },
  {
   "cell_type": "code",
   "execution_count": 15,
   "metadata": {},
   "outputs": [],
   "source": [
    "df_reverse_user_id.createOrReplaceTempView('reverse_user_id')"
   ]
  },
  {
   "cell_type": "markdown",
   "metadata": {},
   "source": [
    "# Reverse Cretit_card domain"
   ]
  },
  {
   "cell_type": "code",
   "execution_count": 16,
   "metadata": {},
   "outputs": [],
   "source": [
    "df_reverse_credit_card = spark.read.parquet('./data/reverse/credit_card_sha512sha256')"
   ]
  },
  {
   "cell_type": "code",
   "execution_count": 17,
   "metadata": {},
   "outputs": [
    {
     "data": {
      "text/plain": [
       "24000"
      ]
     },
     "execution_count": 17,
     "metadata": {},
     "output_type": "execute_result"
    }
   ],
   "source": [
    "df_reverse_credit_card.count()"
   ]
  },
  {
   "cell_type": "code",
   "execution_count": 18,
   "metadata": {},
   "outputs": [],
   "source": [
    "df_reverse_credit_card.createOrReplaceTempView('reverse_credit_card')"
   ]
  },
  {
   "cell_type": "markdown",
   "metadata": {},
   "source": [
    "# Minus clause to validate table"
   ]
  },
  {
   "cell_type": "code",
   "execution_count": 21,
   "metadata": {},
   "outputs": [
    {
     "name": "stderr",
     "output_type": "stream",
     "text": [
      "                                                                                \r"
     ]
    },
    {
     "data": {
      "text/html": [
       "<table><tr style=\"border-bottom: 1px solid\"><td style=\"font-weight: bold\">id</td><td style=\"font-weight: bold\">credit_card</td><td style=\"font-weight: bold\">date_rent</td><td style=\"font-weight: bold\">time_rent</td><td style=\"font-weight: bold\">movie</td><td style=\"font-weight: bold\">movie_genres</td><td style=\"font-weight: bold\">offset</td></tr></table>"
      ],
      "text/plain": [
       "<IPython.core.display.HTML object>"
      ]
     },
     "execution_count": 21,
     "metadata": {},
     "output_type": "execute_result"
    }
   ],
   "source": [
    "%%sparksql \n",
    "select \n",
    "    id, credit_card, date_rent, time_rent, movie, movie_genres, offset \n",
    "from rent_input\n",
    "minus \n",
    "select \n",
    "    rui.user_id as id, rcc.credit_card, date_rent, time_rent, movie, movie_genres, offset \n",
    "from rent_output as ro\n",
    "INNER JOIN reverse_user_id as rui ON (ro.id = rui.user_id_mask) \n",
    "INNER JOIN reverse_credit_card as rcc ON (ro.credit_card = rcc.credit_card_mask)"
   ]
  },
  {
   "cell_type": "code",
   "execution_count": 22,
   "metadata": {},
   "outputs": [
    {
     "name": "stdout",
     "output_type": "stream",
     "text": [
      "only showing top 20 row(s)\n"
     ]
    },
    {
     "data": {
      "text/html": [
       "<table><tr style=\"border-bottom: 1px solid\"><td style=\"font-weight: bold\">date_rent</td><td style=\"font-weight: bold\">time_rent</td><td style=\"font-weight: bold\">movie</td><td style=\"font-weight: bold\">movie_genres</td><td style=\"font-weight: bold\">id</td><td style=\"font-weight: bold\">credit_card</td><td style=\"font-weight: bold\">offset</td></tr><tr><td>2020-04-12</td><td>19:24:10</td><td>Blinkity Blank</td><td>Animation</td><td>abae1023971539d380f71298401acd4d48791a92b19e67d00fd452b686401e54</td><td>18e61c9b4b33d0e198bb5d91b2c451ed341d4d3a214f1f51c2cc7f98ee6547d8</td><td>1</td></tr><tr><td>2020-04-12</td><td>3:54:29</td><td>What Have I Done to Deserve This? (¿Qué he hecho yo para merecer esto!!)</td><td>Comedy|Drama</td><td>b3fd63acc23e666fc95b24b102ab1d7ae39ec26c4c45205b2d4c027c9c9cb966</td><td>e2bea2000bbbe37c77e1773573b13d36a9057a19586a4902fe635719bea21ab2</td><td>1</td></tr><tr><td>2020-04-12</td><td>1:33:37</td><td>Second in Command</td><td>Action|Thriller</td><td>c6546b74e8d033688b8800d673090d264e54b3bd921ef463c063807335b4b4f2</td><td>75f77c2b11155463513424b0d56f6209923711d6388f70c65308fc24090890b6</td><td>1</td></tr><tr><td>2020-04-12</td><td>4:32:28</td><td>Buddha Collapsed Out of Shame</td><td>Drama|War</td><td>0747df874d1cad8841a36e09fd6933f617d11179638517e3de858e534e14d554</td><td>61c425599469eac91e185721412aacd3c33d6de97824bb6086ef5dc89b712713</td><td>1</td></tr><tr><td>2020-04-12</td><td>16:06:10</td><td>Mechanic, The</td><td>Action|Drama|Thriller</td><td>6d0347ffb6b203d0bdcd592c40090c1afcaa34e2c470fb81d391435101952ee4</td><td>09aa5109a2327f531c860dca9fb7355b6546536c134093e9d7d7318719e13958</td><td>1</td></tr><tr><td>2020-04-12</td><td>2:03:09</td><td>Prince &amp; Me II: The Royal Wedding, The</td><td>Comedy|Romance</td><td>f44e68de464337affafae6e374941bfb93f31b497dc80cadfdb3fe049d372072</td><td>1fcbcd98bdb399d2bbb4e54dd5c569975dda151e313e4d250978564f778e0333</td><td>1</td></tr><tr><td>2020-04-12</td><td>7:23:01</td><td>Neverland</td><td>Adventure|Fantasy</td><td>7dd3f1ce8e9902f2e25ab006a6b043b1fe6a21a8ed23fb68f51164f98cd29d70</td><td>ed986ee20009536b41ec2b9d5c1b4a67355c0435f8f162b87c592d74dc90eb23</td><td>1</td></tr><tr><td>2020-04-12</td><td>6:39:22</td><td>Nine Dead</td><td>Crime|Mystery|Thriller</td><td>c6d180917fb29aa932990e4f91b7ba500022290113fc32fdeb7890518a0c2179</td><td>7907e94aaee1e669d0691fb249ec3a9aa593f2a0eb144bdc8427f3604d6d25cb</td><td>1</td></tr><tr><td>2020-04-12</td><td>19:40:11</td><td>One Magic Christmas</td><td>Drama|Fantasy</td><td>fc00e9897992742c919a403f3584958655310c45e11e8e76b30e44588be696a1</td><td>2b0c7156801270b5c5a4b21dedaa11ac8a6b320e2bf00ed0e60d7c68da570c65</td><td>1</td></tr><tr><td>2020-04-12</td><td>19:26:41</td><td>Sachs&#x27; Disease (La maladie de Sachs)</td><td>Drama</td><td>4d1931a512802ccd241903e6143578ed79eca7e071092abd7f097ec32a514ec0</td><td>dddd2b1dc80a9ac760e762cae6a7522b53061fdb3df7413862745e8a6eaa1c57</td><td>1</td></tr><tr><td>2020-04-12</td><td>20:41:33</td><td>They Shoot Horses, Don&#x27;t They?</td><td>Drama</td><td>a7f4ab82a2cb8f4525744290953e5d94848c5d65eddf2d87d89cf25bce2d7b6a</td><td>42de9da3c52fef2ef0a9f4154db6b60af601ec9d4b88dfcb8f83ea5240606d65</td><td>1</td></tr><tr><td>2020-04-12</td><td>12:58:30</td><td>Ghost in the Shell 2: Innocence (a.k.a. Innocence) (Inosensu)</td><td>Action|Animation|Drama|Sci-Fi|Thriller</td><td>1de000473a2c2b24c015267a782671d96b03ee80ebc097d4458fa44e3df71976</td><td>8b397c6893d8a187ff0c87e60afa47bd349ba1b38da43fb7ed34eb5936562873</td><td>1</td></tr><tr><td>2020-04-12</td><td>22:08:18</td><td>Non-Stop</td><td>Action|Comedy|Crime</td><td>976c48b49f3ac5876c1324890637240cd690d26810aa075e4e532d4dfc3f7e51</td><td>652bc8dc0330e6e9ea3301e446eb0be45994c2d7b927f9e301d31c004ef72645</td><td>1</td></tr><tr><td>2020-04-12</td><td>6:40:17</td><td>One Body Too Many</td><td>Comedy|Horror|Mystery</td><td>44ed348fcdfa8dc1c989a3472fb09ec9ee80caca16a58f0c57f5eac69746e6fa</td><td>b574f4e7faf1573ad6dc1f3a337432e14a774ce726b420dc94886340cddb32cb</td><td>1</td></tr><tr><td>2020-04-12</td><td>4:44:23</td><td>Passed Away</td><td>Comedy</td><td>d49af67241e07bcd226e947eb174d90863765639e8f6a19cdb95d0e58fd5748a</td><td>20673f87a6755a1e2d77eac8eab9ffaac617b749e8c53511a8ab3ad6ad0f8b26</td><td>1</td></tr><tr><td>2020-04-12</td><td>16:43:55</td><td>Pursuit of Happiness</td><td>Comedy|Romance</td><td>58de4007dce28d93f72a40c9c14f8939823e1247a1f02e9419d33357af5e4d8b</td><td>861441ca5191a2a2088145669ea531a90be9d50f00b75402d1829f4a0f803c45</td><td>1</td></tr><tr><td>2020-04-12</td><td>11:43:12</td><td>North Star (a.k.a. Tashunga)</td><td>Action|Adventure|Crime|Drama|Western</td><td>b5885124f7f8f227b40f9d56960685ece9f3e341a8f9e5fd20c7c30c45b33ba8</td><td>1ee1de023446e2fd47ecdc4695895271a97c10c715df0e8de2ad21a87f4e2866</td><td>1</td></tr><tr><td>2020-04-12</td><td>16:29:11</td><td>Casual Sex?</td><td>Comedy</td><td>c782d5c8ff7f1f91c0166689c5d104c39461ea850fd1a3de16d61b71ba5eb4ef</td><td>fd858d4abd3206ec89acb4ade3922c491eb429efbca47795454f9f29c3caa116</td><td>1</td></tr><tr><td>2020-04-12</td><td>1:27:27</td><td>Crush, The</td><td>Thriller</td><td>3a1670bb3d0aee9d93115126512c79611291451e714b9bf03fc11054a78f84bb</td><td>6375f466b8e88eb53a47b4340af43dfa0e7f68dacd61a55d0baba5d3d4ed158e</td><td>1</td></tr><tr><td>2020-04-12</td><td>22:54:40</td><td>Horns</td><td>Horror|Mystery</td><td>3c94fec6ab03a123da5292db9e40104c4f03b08fddf7ec2efcfe45a91a20a550</td><td>5e00419da3f9fdb642319d6cc07fa3395563f97c87c67d237d3374876b73e27d</td><td>1</td></tr></table>"
      ],
      "text/plain": [
       "<IPython.core.display.HTML object>"
      ]
     },
     "execution_count": 22,
     "metadata": {},
     "output_type": "execute_result"
    }
   ],
   "source": [
    "%%sparksql \n",
    "select\n",
    "*\n",
    "from rent_output"
   ]
  },
  {
   "cell_type": "code",
   "execution_count": 23,
   "metadata": {},
   "outputs": [
    {
     "name": "stdout",
     "output_type": "stream",
     "text": [
      "only showing top 20 row(s)\n"
     ]
    },
    {
     "data": {
      "text/html": [
       "<table><tr style=\"border-bottom: 1px solid\"><td style=\"font-weight: bold\">id</td><td style=\"font-weight: bold\">credit_card</td><td style=\"font-weight: bold\">date_rent</td><td style=\"font-weight: bold\">time_rent</td><td style=\"font-weight: bold\">movie</td><td style=\"font-weight: bold\">movie_genres</td><td style=\"font-weight: bold\">offset</td></tr><tr><td>1</td><td>4903136325452740870</td><td>2020-04-12</td><td>10:52:53</td><td>Dry Cleaning (Nettoyage à sec)</td><td>Drama</td><td>1</td></tr><tr><td>2</td><td>3577491551960733</td><td>2020-04-12</td><td>4:42:13</td><td>Alone (Issiz adam)</td><td>Drama|Romance</td><td>1</td></tr><tr><td>3</td><td>3536874685193000</td><td>2020-04-12</td><td>16:53:05</td><td>Family Stone, The</td><td>Comedy|Drama|Romance</td><td>1</td></tr><tr><td>4</td><td>344681715118362</td><td>2020-04-12</td><td>22:55:42</td><td>Man Who Captured Eichmann, The</td><td>Drama|War</td><td>1</td></tr><tr><td>5</td><td>5048375443966618</td><td>2020-04-12</td><td>5:27:32</td><td>Desperately Seeking Susan</td><td>Comedy|Drama|Romance</td><td>1</td></tr><tr><td>6</td><td>201621133610618</td><td>2020-04-12</td><td>15:12:07</td><td>Caine (Shark!)</td><td>Action|Adventure|Thriller</td><td>1</td></tr><tr><td>7</td><td>4017952805033425</td><td>2020-04-12</td><td>1:45:48</td><td>The Scapegoat</td><td>Drama</td><td>1</td></tr><tr><td>8</td><td>4017957934466107</td><td>2020-04-12</td><td>12:35:09</td><td>Injury to One, An</td><td>Documentary</td><td>1</td></tr><tr><td>9</td><td>337941060394011</td><td>2020-04-12</td><td>5:19:47</td><td>Skeleton Crew</td><td>Horror</td><td>1</td></tr><tr><td>10</td><td>6399834887430831</td><td>2020-04-12</td><td>1:01:10</td><td>Age of Ice</td><td>Adventure|Sci-Fi</td><td>1</td></tr><tr><td>11</td><td>4917378918567862</td><td>2020-04-12</td><td>20:15:35</td><td>Godzilla&#x27;s Revenge (Gojira-Minira-Gabara: Oru Kaijû Daishingeki) (All Monsters Attack)</td><td>Children</td><td>1</td></tr><tr><td>12</td><td>5561535137109182</td><td>2020-04-12</td><td>19:01:21</td><td>Mrs. Pollifax-Spy</td><td>null</td><td>1</td></tr><tr><td>13</td><td>3561177898358529</td><td>2020-04-12</td><td>23:18:28</td><td>Muppets From Space</td><td>Children|Comedy</td><td>1</td></tr><tr><td>14</td><td>5100149952659509</td><td>2020-04-12</td><td>18:48:35</td><td>God Said &#x27;Ha!&#x27;</td><td>Comedy</td><td>1</td></tr><tr><td>15</td><td>3552265907987601</td><td>2020-04-12</td><td>17:35:02</td><td>3000 Miles to Graceland</td><td>Action|Thriller</td><td>1</td></tr><tr><td>16</td><td>30388059445901</td><td>2020-04-12</td><td>22:40:37</td><td>Transmorphers</td><td>Action|Adventure|Sci-Fi</td><td>1</td></tr><tr><td>17</td><td>3557314418688574</td><td>2020-04-12</td><td>17:49:14</td><td>Suspect</td><td>Crime|Drama|Thriller</td><td>1</td></tr><tr><td>18</td><td>3560389149794441</td><td>2020-04-12</td><td>4:56:02</td><td>Timecrimes (Cronocrímenes, Los)</td><td>Sci-Fi|Thriller</td><td>1</td></tr><tr><td>19</td><td>3529468841475960</td><td>2020-04-12</td><td>10:33:51</td><td>Horseman, The</td><td>Crime|Thriller</td><td>1</td></tr><tr><td>20</td><td>6763943473044817241</td><td>2020-04-12</td><td>22:09:07</td><td>Raging Bull</td><td>Drama</td><td>1</td></tr></table>"
      ],
      "text/plain": [
       "<IPython.core.display.HTML object>"
      ]
     },
     "execution_count": 23,
     "metadata": {},
     "output_type": "execute_result"
    }
   ],
   "source": [
    "%%sparksql \n",
    "SELECT *\n",
    "    FROM rent_input"
   ]
  },
  {
   "cell_type": "code",
   "execution_count": 20,
   "metadata": {},
   "outputs": [
    {
     "name": "stdout",
     "output_type": "stream",
     "text": [
      "only showing top 20 row(s)\n"
     ]
    },
    {
     "data": {
      "text/html": [
       "<table><tr style=\"border-bottom: 1px solid\"><td style=\"font-weight: bold\">date_rent</td><td style=\"font-weight: bold\">time_rent</td><td style=\"font-weight: bold\">movie</td><td style=\"font-weight: bold\">movie_genres</td><td style=\"font-weight: bold\">id</td><td style=\"font-weight: bold\">credit_card</td><td style=\"font-weight: bold\">offset</td></tr><tr><td>2020-04-12</td><td>21:48:57</td><td>Himizu</td><td>Children|Crime|Drama</td><td>5a3d36f3c5fd7c57f33c564590ff5132a999c9c52934f7d2d76773231a14ee1a</td><td>24ce6a634ce326653cc3369ffaba5077dde7029f4d5dfd3b5500b757909801fd</td><td>1</td></tr><tr><td>2020-04-12</td><td>7:23:01</td><td>Neverland</td><td>Adventure|Fantasy</td><td>7dd3f1ce8e9902f2e25ab006a6b043b1fe6a21a8ed23fb68f51164f98cd29d70</td><td>ed986ee20009536b41ec2b9d5c1b4a67355c0435f8f162b87c592d74dc90eb23</td><td>1</td></tr><tr><td>2020-04-12</td><td>4:26:29</td><td>99 francs</td><td>Comedy</td><td>e75d986b87db8a9f803ecf8388e8d2f60817c5cf14dd32d566f01a161a08ea3f</td><td>186c0ba3bc0e0d47892882b5fa298a24b6be89ed0c0541d3d485bb9f6b7cdf97</td><td>1</td></tr><tr><td>2020-04-12</td><td>19:26:41</td><td>Sachs&#x27; Disease (La maladie de Sachs)</td><td>Drama</td><td>4d1931a512802ccd241903e6143578ed79eca7e071092abd7f097ec32a514ec0</td><td>dddd2b1dc80a9ac760e762cae6a7522b53061fdb3df7413862745e8a6eaa1c57</td><td>1</td></tr><tr><td>2020-04-12</td><td>13:13:24</td><td>Cabin Boy</td><td>Comedy</td><td>99fc323d8ed63269908df021afd3f5e71a945fdf5ae76e081d7d6eebb56cb8a2</td><td>e9d0136c647b810cfd4837add2fb31a5072ab1074da305eaffa1f742001bd13a</td><td>1</td></tr><tr><td>2020-04-12</td><td>1:20:44</td><td>Laila</td><td>Drama|Romance</td><td>a992199c0b5a96c67ef35d54367bb373d86d025607948d07f87fefe3ed896fd0</td><td>5152d7d99e156aafb8f527cbe0f5a8ecb2f888c68dfedeca5f5ac20b22e2779a</td><td>1</td></tr><tr><td>2020-04-12</td><td>14:45:48</td><td>Magnificent Seven, The</td><td>Adventure|Western</td><td>cc836f5987b01318435a75ff6d0e6598b8902f2cc9e14e9d6d787edba366deb9</td><td>a0081d6c93bf48fb9577513d326be5f226e0bd20e3853045cfaf3ea9dd3fbb35</td><td>1</td></tr><tr><td>2020-04-12</td><td>6:24:04</td><td>Beautiful</td><td>Drama|Thriller</td><td>666a5391d3a9e296dae35207d4fba459c33bb64dcc3e56019699b3b51f1d289f</td><td>ca6aebaef15fd1e193767adfff913b072c17787d6a91a835f5e1cc625f843a92</td><td>1</td></tr><tr><td>2020-04-12</td><td>13:53:53</td><td>U Turn</td><td>Crime|Drama|Mystery</td><td>abeab0626396b2a733f517eae43287e38ced15ce7006296a385e2f9a56ea4517</td><td>d107052dc40b767b532d327020e03b3d664db3ecdf0bbc6bac3908316fc06e75</td><td>1</td></tr><tr><td>2020-04-12</td><td>1:17:46</td><td>Kill the Irishman</td><td>Action|Crime</td><td>29c6ebf11da7419171f8f780dfffa6f92aed43a81c553c6cebd3e2f9aa3e91ec</td><td>0415c7791fcea322c8ab2cc8663364e24723151bcb749159430cc763970d628d</td><td>1</td></tr><tr><td>2020-04-12</td><td>6:32:16</td><td>Nazis: A Warning from History, The</td><td>Documentary|War</td><td>72f02662a32787464b4d4de34f045624e7c1f52247eb4f320f71290e0fa18b82</td><td>99f7505cd0cf8175875823476f32a2a7dc46a43e56ad801c79cab447e0b9a3eb</td><td>1</td></tr><tr><td>2020-04-12</td><td>2:22:36</td><td>Not My Type</td><td>Comedy|Romance</td><td>9cf959a5170d8139a42e925277f1a81cc7b8d87755bf2e250fabf1ae7021030f</td><td>cc46c3752e143b7af0aaa4b19a94764d19a17a39308dd04797ceba4f86065b97</td><td>1</td></tr><tr><td>2020-04-12</td><td>23:39:21</td><td>Partners: The Movie II (Aibô: Gekijô-ban II)</td><td>Drama</td><td>ccce3a074af34d3021814f212aa066e8dcc89dc0e88e4f8f1c112b6a788ff6ab</td><td>4ac0245808f665c6b1ba18e2923314e87b017e46f5d998483801ea337672ab5b</td><td>1</td></tr><tr><td>2020-04-12</td><td>15:20:53</td><td>Lost in the Desert</td><td>null</td><td>1ec60d1a29e3852cc7c41e2396ecb9b94eb3aa4547cfe638734921581bc59f95</td><td>0321c89ea8f3cdddd2b4cadf5e1cd369822b4b9a47cea5356fc4c19bd87c5287</td><td>1</td></tr><tr><td>2020-04-12</td><td>12:47:58</td><td>3 Ninjas: High Noon On Mega Mountain</td><td>Action|Children|Comedy</td><td>f7ad3d340a57d32472e9cc52e6083c4829f657ccce89cd269a5e6e0a332ec00b</td><td>dc398f1dd4b9461e2e79834e51ee776c4d10d8c9b43132db1abcd650846f63ee</td><td>1</td></tr><tr><td>2020-04-12</td><td>4:38:44</td><td>Forty Shades of Blue</td><td>Drama</td><td>017baa8bcd349fe30bf83f7de5bf008fdd0d703a01ff644a94d0cfc14369f5c2</td><td>c8247c128245059c8f1b5453ac5475618ad9f6fd5927c926502151f86d989613</td><td>1</td></tr><tr><td>2020-04-12</td><td>20:22:42</td><td>Funny People</td><td>Comedy|Drama</td><td>58de4007dce28d93f72a40c9c14f8939823e1247a1f02e9419d33357af5e4d8b</td><td>38ed94f3068651e045327e0d02683419500dd66b6adf7759e827c714b8667460</td><td>1</td></tr><tr><td>2020-04-12</td><td>17:20:55</td><td>Wedding Gift, The</td><td>Drama|Romance</td><td>543cf4238c6291216c7cd2eb7442e0811b38e1389d27734a64e913b4084c23e6</td><td>5a8106f74d232adbb320556341465f02fe1f4fd0950f015f962aa34534592bfd</td><td>1</td></tr><tr><td>2020-04-12</td><td>20:01:01</td><td>Delirious</td><td>Comedy|Drama</td><td>c3c66b769c6b2aec4436b958a8e668b29aad8606f5148fd7889ef5442af2ae15</td><td>bc2d673ba5763613aa7fee155dde6d67311fa05f1b62788eec8d3ae2d1f3b887</td><td>1</td></tr><tr><td>2020-04-12</td><td>6:42:28</td><td>Boys Life 4: Four Play</td><td>Comedy|Drama</td><td>9b9e2ce075d949d957b2d7f5a8b3203627987ddd85d9493085aa894c81332742</td><td>e6b85d5006cdc836aadd20d8e7c2ed8dee8ed8fea8031d32a47467e61fa7d879</td><td>1</td></tr></table>"
      ],
      "text/plain": [
       "<IPython.core.display.HTML object>"
      ]
     },
     "execution_count": 20,
     "metadata": {},
     "output_type": "execute_result"
    }
   ],
   "source": [
    "%%sparksql \n",
    "SELECT * from rent_output"
   ]
  },
  {
   "cell_type": "code",
   "execution_count": null,
   "metadata": {},
   "outputs": [],
   "source": []
  }
 ],
 "metadata": {
  "kernelspec": {
   "display_name": "Python 3 (ipykernel)",
   "language": "python",
   "name": "python3"
  },
  "language_info": {
   "codemirror_mode": {
    "name": "ipython",
    "version": 3
   },
   "file_extension": ".py",
   "mimetype": "text/x-python",
   "name": "python",
   "nbconvert_exporter": "python",
   "pygments_lexer": "ipython3",
   "version": "3.7.3"
  }
 },
 "nbformat": 4,
 "nbformat_minor": 4
}
